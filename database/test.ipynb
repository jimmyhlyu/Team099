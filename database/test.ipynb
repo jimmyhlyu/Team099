{
 "cells": [
  {
   "cell_type": "code",
   "execution_count": 2,
   "outputs": [],
   "source": [
    "from database.data_classes import User, Connection\n",
    "from database.app import *\n",
    "\n",
    "from database.helpful_classes import db\n"
   ],
   "metadata": {
    "collapsed": false
   }
  },
  {
   "cell_type": "code",
   "execution_count": 3,
   "outputs": [],
   "source": [
    "delete_user(\"81d9ea7f-c13d-4bd1-81e9-8ce9ef0e0925\")"
   ],
   "metadata": {
    "collapsed": false
   }
  },
  {
   "cell_type": "code",
   "execution_count": 4,
   "outputs": [],
   "source": [
    "user = User(name='test')"
   ],
   "metadata": {
    "collapsed": false
   }
  },
  {
   "cell_type": "code",
   "execution_count": 5,
   "outputs": [
    {
     "data": {
      "text/plain": "'Success'"
     },
     "execution_count": 5,
     "metadata": {},
     "output_type": "execute_result"
    }
   ],
   "source": [
    "add_user(user.to_dict())"
   ],
   "metadata": {
    "collapsed": false
   }
  },
  {
   "cell_type": "code",
   "execution_count": 6,
   "outputs": [
    {
     "data": {
      "text/plain": "User(id='860ff33a-b03b-476d-b8dc-551cf921f327', name='test', account_status='BASIC', connection_ids=[], social_preference={'sector_weights': {'friendship': 1.0, 'relationship': 1.0, 'career': 1.0}, 'metric_weights': {'charm': 1.0, 'closeness': 1.0, 'companionship': 1.0, 'usefulness': 1.0, 'how_much_they_like_us': 1.0, 'toxicity': -1.0, 'nexus': 1.0}}, stats={'lead_conversion_rate': 0, 'avg_lead_quality': 0, 'opportunity_conversion_rate': 0, 'avg_opportunity_quality': 0, 'close_rate': 0, 'win_rate': 0, 'lose_rate': 0, 'vetting_accuracy': 0})"
     },
     "execution_count": 6,
     "metadata": {},
     "output_type": "execute_result"
    }
   ],
   "source": [
    "user"
   ],
   "metadata": {
    "collapsed": false
   }
  },
  {
   "cell_type": "code",
   "execution_count": 6,
   "outputs": [],
   "source": [
    "update_user(user.id, {'name': 'Bob', 'account_status': 'BASIC'})"
   ],
   "metadata": {
    "collapsed": false
   }
  },
  {
   "cell_type": "code",
   "execution_count": 8,
   "outputs": [],
   "source": [
    "wendy = Connection(name='Wendy', age=23, gender='FEMALE', sector='FRIENDSHIP')\n",
    "add_connection(user.id, wendy.to_dict())"
   ],
   "metadata": {
    "collapsed": false
   }
  },
  {
   "cell_type": "code",
   "execution_count": 9,
   "outputs": [],
   "source": [
    "max_leonard = Connection(name='Max Leonard', age=20, gender='MALE', sector='FRIENDSHIP')\n",
    "add_connection(user.id, max_leonard.to_dict())"
   ],
   "metadata": {
    "collapsed": false
   }
  },
  {
   "cell_type": "code",
   "execution_count": 10,
   "outputs": [],
   "source": [
    "gary = Connection(name='Gary Gu', age=22, gender='MALE', sector='FRIENDSHIP')\n",
    "add_connection(user.id, gary.to_dict())"
   ],
   "metadata": {
    "collapsed": false
   }
  },
  {
   "cell_type": "code",
   "execution_count": 10,
   "outputs": [],
   "source": [
    "delete_connection(user.id, gary.id)"
   ],
   "metadata": {
    "collapsed": false
   }
  }
 ],
 "metadata": {
  "kernelspec": {
   "display_name": "Python 3",
   "language": "python",
   "name": "python3"
  },
  "language_info": {
   "codemirror_mode": {
    "name": "ipython",
    "version": 2
   },
   "file_extension": ".py",
   "mimetype": "text/x-python",
   "name": "python",
   "nbconvert_exporter": "python",
   "pygments_lexer": "ipython2",
   "version": "2.7.6"
  }
 },
 "nbformat": 4,
 "nbformat_minor": 0
}
