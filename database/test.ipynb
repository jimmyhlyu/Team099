{
 "cells": [
  {
   "cell_type": "code",
   "execution_count": null,
   "outputs": [],
   "source": [
    "from database.data_classes import User, Connection\n",
    "from database.app import *\n",
    "\n",
    "from database.helpful_classes import db\n"
   ],
   "metadata": {
    "collapsed": false
   }
  },
  {
   "cell_type": "code",
   "execution_count": null,
   "outputs": [],
   "source": [
    "delete_user(\"81d9ea7f-c13d-4bd1-81e9-8ce9ef0e0925\")"
   ],
   "metadata": {
    "collapsed": false
   }
  },
  {
   "cell_type": "code",
   "execution_count": null,
   "outputs": [],
   "source": [
    "user = User(name='test')"
   ],
   "metadata": {
    "collapsed": false
   }
  },
  {
   "cell_type": "code",
   "execution_count": null,
   "outputs": [],
   "source": [
    "add_user(user.to_dict())"
   ],
   "metadata": {
    "collapsed": false
   }
  },
  {
   "cell_type": "code",
   "execution_count": null,
   "outputs": [],
   "source": [],
   "metadata": {
    "collapsed": false
   }
  },
  {
   "cell_type": "code",
   "execution_count": null,
   "outputs": [],
   "source": [
    "user"
   ],
   "metadata": {
    "collapsed": false
   }
  },
  {
   "cell_type": "code",
   "execution_count": null,
   "outputs": [],
   "source": [
    "update_user(user.id, {'name': 'Bob', 'account_status': 'BASIC'})"
   ],
   "metadata": {
    "collapsed": false
   }
  },
  {
   "cell_type": "code",
   "execution_count": null,
   "outputs": [],
   "source": [
    "wendy = Connection(name='Wendy', age=23, gender='FEMALE', sector='FRIENDSHIP')\n",
    "add_connection(user.id, wendy.to_dict())"
   ],
   "metadata": {
    "collapsed": false
   }
  },
  {
   "cell_type": "code",
   "execution_count": null,
   "outputs": [],
   "source": [
    "max_leonard = Connection(name='Max Leonard', age=20, gender='MALE', sector='FRIENDSHIP')\n",
    "add_connection(user.id, max_leonard.to_dict())"
   ],
   "metadata": {
    "collapsed": false
   }
  },
  {
   "cell_type": "code",
   "execution_count": null,
   "outputs": [],
   "source": [
    "gary = Connection(name='Gary Gu', age=22, gender='MALE', sector='FRIENDSHIP')\n",
    "add_connection(\"ac168cda-d555-4a6c-bbb0-a576fb9eee85\", gary.to_dict())"
   ],
   "metadata": {
    "collapsed": false
   }
  },
  {
   "cell_type": "code",
   "execution_count": 1,
   "outputs": [
    {
     "name": "stdout",
     "output_type": "stream",
     "text": [
      "                                  hours_spent_together     name  \\\n",
      "timestamp                                                         \n",
      "2022-10-19 18:01:07.165000+00:00                     0  Gary Gu   \n",
      "2022-10-19 18:01:10.215000+00:00                     0  Gary Gu   \n",
      "2022-10-19 18:01:12.112000+00:00                     0  Gary Gu   \n",
      "2022-10-19 18:01:13.636000+00:00                     0  Gary Gu   \n",
      "2022-10-19 18:01:14.687000+00:00                     0  Gary Gu   \n",
      "2022-10-19 18:11:05.640000+00:00                     0  Gary Gu   \n",
      "\n",
      "                                                   date_first_met      sector  \\\n",
      "timestamp                                                                       \n",
      "2022-10-19 18:01:07.165000+00:00 2022-10-20 04:58:28.320463+00:00  FRIENDSHIP   \n",
      "2022-10-19 18:01:10.215000+00:00 2022-10-20 04:58:28.320463+00:00  FRIENDSHIP   \n",
      "2022-10-19 18:01:12.112000+00:00 2022-10-20 04:58:28.320463+00:00  FRIENDSHIP   \n",
      "2022-10-19 18:01:13.636000+00:00 2022-10-20 04:58:28.320463+00:00  FRIENDSHIP   \n",
      "2022-10-19 18:01:14.687000+00:00 2022-10-20 04:58:28.320463+00:00  FRIENDSHIP   \n",
      "2022-10-19 18:11:05.640000+00:00 2022-10-20 05:11:01.846904+00:00  FRIENDSHIP   \n",
      "\n",
      "                                  expected_value  \\\n",
      "timestamp                                          \n",
      "2022-10-19 18:01:07.165000+00:00               0   \n",
      "2022-10-19 18:01:10.215000+00:00               0   \n",
      "2022-10-19 18:01:12.112000+00:00               0   \n",
      "2022-10-19 18:01:13.636000+00:00               0   \n",
      "2022-10-19 18:01:14.687000+00:00               0   \n",
      "2022-10-19 18:11:05.640000+00:00               0   \n",
      "\n",
      "                                                                    id  age  \\\n",
      "timestamp                                                                     \n",
      "2022-10-19 18:01:07.165000+00:00  576325cb-4f92-43e8-94ac-96a17cd7204f   22   \n",
      "2022-10-19 18:01:10.215000+00:00  d8defe48-7111-4dc2-a946-ad6577d8ad09   22   \n",
      "2022-10-19 18:01:12.112000+00:00  b95f5cd5-99f3-4805-9aa2-79786e15d117   22   \n",
      "2022-10-19 18:01:13.636000+00:00  8ce8ff72-fd8d-46c7-8798-53905dcc51f6   22   \n",
      "2022-10-19 18:01:14.687000+00:00  3077c99c-026c-4745-b825-0bbae93c1329   22   \n",
      "2022-10-19 18:11:05.640000+00:00  f5a8aa1f-8a1e-4477-a260-15ebdcd35ac5   22   \n",
      "\n",
      "                                                               user_id status  \\\n",
      "timestamp                                                                       \n",
      "2022-10-19 18:01:07.165000+00:00  ac168cda-d555-4a6c-bbb0-a576fb9eee85   LEAD   \n",
      "2022-10-19 18:01:10.215000+00:00  ac168cda-d555-4a6c-bbb0-a576fb9eee85   LEAD   \n",
      "2022-10-19 18:01:12.112000+00:00  ac168cda-d555-4a6c-bbb0-a576fb9eee85   LEAD   \n",
      "2022-10-19 18:01:13.636000+00:00  ac168cda-d555-4a6c-bbb0-a576fb9eee85   LEAD   \n",
      "2022-10-19 18:01:14.687000+00:00  ac168cda-d555-4a6c-bbb0-a576fb9eee85   LEAD   \n",
      "2022-10-19 18:11:05.640000+00:00  ac168cda-d555-4a6c-bbb0-a576fb9eee85   LEAD   \n",
      "\n",
      "                                 gender  efficiency  \\\n",
      "timestamp                                             \n",
      "2022-10-19 18:01:07.165000+00:00   MALE           0   \n",
      "2022-10-19 18:01:10.215000+00:00   MALE           0   \n",
      "2022-10-19 18:01:12.112000+00:00   MALE           0   \n",
      "2022-10-19 18:01:13.636000+00:00   MALE           0   \n",
      "2022-10-19 18:01:14.687000+00:00   MALE           0   \n",
      "2022-10-19 18:11:05.640000+00:00   MALE           0   \n",
      "\n",
      "                                                                            metrics  \\\n",
      "timestamp                                                                             \n",
      "2022-10-19 18:01:07.165000+00:00  {'usefulness': 2, 'toxicity': 1, 'closeness': ...   \n",
      "2022-10-19 18:01:10.215000+00:00  {'usefulness': 0.0, 'toxicity': 0.0, 'closenes...   \n",
      "2022-10-19 18:01:12.112000+00:00  {'usefulness': 1, 'toxicity': 1, 'closeness': ...   \n",
      "2022-10-19 18:01:13.636000+00:00  {'usefulness': 0.0, 'toxicity': 0.0, 'closenes...   \n",
      "2022-10-19 18:01:14.687000+00:00  {'toxicity': -2, 'usefulness': 0.0, 'closeness...   \n",
      "2022-10-19 18:11:05.640000+00:00  {'usefulness': 0.0, 'toxicity': 0.0, 'closenes...   \n",
      "\n",
      "                                                            history_id  \n",
      "timestamp                                                               \n",
      "2022-10-19 18:01:07.165000+00:00  576325cb-4f92-43e8-94ac-96a17cd7204f  \n",
      "2022-10-19 18:01:10.215000+00:00  d8defe48-7111-4dc2-a946-ad6577d8ad09  \n",
      "2022-10-19 18:01:12.112000+00:00  b95f5cd5-99f3-4805-9aa2-79786e15d117  \n",
      "2022-10-19 18:01:13.636000+00:00  8ce8ff72-fd8d-46c7-8798-53905dcc51f6  \n",
      "2022-10-19 18:01:14.687000+00:00  3077c99c-026c-4745-b825-0bbae93c1329  \n",
      "2022-10-19 18:11:05.640000+00:00  f5a8aa1f-8a1e-4477-a260-15ebdcd35ac5  \n"
     ]
    },
    {
     "ename": "KeyError",
     "evalue": "-1",
     "output_type": "error",
     "traceback": [
      "\u001B[1;31m---------------------------------------------------------------------------\u001B[0m",
      "\u001B[1;31mKeyError\u001B[0m                                  Traceback (most recent call last)",
      "File \u001B[1;32m~\\AppData\\Local\\Packages\\PythonSoftwareFoundation.Python.3.10_qbz5n2kfra8p0\\LocalCache\\local-packages\\Python310\\site-packages\\pandas\\core\\indexes\\base.py:3800\u001B[0m, in \u001B[0;36mIndex.get_loc\u001B[1;34m(self, key, method, tolerance)\u001B[0m\n\u001B[0;32m   3799\u001B[0m \u001B[38;5;28;01mtry\u001B[39;00m:\n\u001B[1;32m-> 3800\u001B[0m     \u001B[38;5;28;01mreturn\u001B[39;00m \u001B[38;5;28;43mself\u001B[39;49m\u001B[38;5;241;43m.\u001B[39;49m\u001B[43m_engine\u001B[49m\u001B[38;5;241;43m.\u001B[39;49m\u001B[43mget_loc\u001B[49m\u001B[43m(\u001B[49m\u001B[43mcasted_key\u001B[49m\u001B[43m)\u001B[49m\n\u001B[0;32m   3801\u001B[0m \u001B[38;5;28;01mexcept\u001B[39;00m \u001B[38;5;167;01mKeyError\u001B[39;00m \u001B[38;5;28;01mas\u001B[39;00m err:\n",
      "File \u001B[1;32m~\\AppData\\Local\\Packages\\PythonSoftwareFoundation.Python.3.10_qbz5n2kfra8p0\\LocalCache\\local-packages\\Python310\\site-packages\\pandas\\_libs\\index.pyx:138\u001B[0m, in \u001B[0;36mpandas._libs.index.IndexEngine.get_loc\u001B[1;34m()\u001B[0m\n",
      "File \u001B[1;32m~\\AppData\\Local\\Packages\\PythonSoftwareFoundation.Python.3.10_qbz5n2kfra8p0\\LocalCache\\local-packages\\Python310\\site-packages\\pandas\\_libs\\index.pyx:165\u001B[0m, in \u001B[0;36mpandas._libs.index.IndexEngine.get_loc\u001B[1;34m()\u001B[0m\n",
      "File \u001B[1;32mpandas\\_libs\\hashtable_class_helper.pxi:5745\u001B[0m, in \u001B[0;36mpandas._libs.hashtable.PyObjectHashTable.get_item\u001B[1;34m()\u001B[0m\n",
      "File \u001B[1;32mpandas\\_libs\\hashtable_class_helper.pxi:5753\u001B[0m, in \u001B[0;36mpandas._libs.hashtable.PyObjectHashTable.get_item\u001B[1;34m()\u001B[0m\n",
      "\u001B[1;31mKeyError\u001B[0m: -1",
      "\nThe above exception was the direct cause of the following exception:\n",
      "\u001B[1;31mKeyError\u001B[0m                                  Traceback (most recent call last)",
      "Cell \u001B[1;32mIn [1], line 5\u001B[0m\n\u001B[0;32m      3\u001B[0m \u001B[38;5;28;01mimport\u001B[39;00m \u001B[38;5;21;01mpandas\u001B[39;00m\n\u001B[0;32m      4\u001B[0m \u001B[38;5;28;01mfrom\u001B[39;00m \u001B[38;5;21;01mdatabase\u001B[39;00m\u001B[38;5;21;01m.\u001B[39;00m\u001B[38;5;21;01mhelpful_classes\u001B[39;00m \u001B[38;5;28;01mimport\u001B[39;00m db\n\u001B[1;32m----> 5\u001B[0m \u001B[43mget_insights_timeline\u001B[49m\u001B[43m(\u001B[49m\u001B[38;5;124;43m\"\u001B[39;49m\u001B[38;5;124;43mac168cda-d555-4a6c-bbb0-a576fb9eee85\u001B[39;49m\u001B[38;5;124;43m\"\u001B[39;49m\u001B[43m,\u001B[49m\u001B[43m \u001B[49m\u001B[38;5;124;43m\"\u001B[39;49m\u001B[38;5;124;43mGary Gu\u001B[39;49m\u001B[38;5;124;43m\"\u001B[39;49m\u001B[43m)\u001B[49m\n",
      "File \u001B[1;32mG:\\Project099\\Team099\\database\\app.py:174\u001B[0m, in \u001B[0;36mget_insights_timeline\u001B[1;34m(user_id, connection_id)\u001B[0m\n\u001B[0;32m    172\u001B[0m \u001B[38;5;129m@app\u001B[39m\u001B[38;5;241m.\u001B[39mroute(\u001B[38;5;124m'\u001B[39m\u001B[38;5;124m/connection/insights/timeline/<string:user_id>/<string:connection_id>\u001B[39m\u001B[38;5;124m'\u001B[39m, methods\u001B[38;5;241m=\u001B[39m[\u001B[38;5;124m'\u001B[39m\u001B[38;5;124mGET\u001B[39m\u001B[38;5;124m'\u001B[39m])\n\u001B[0;32m    173\u001B[0m \u001B[38;5;28;01mdef\u001B[39;00m \u001B[38;5;21mget_insights_timeline\u001B[39m(user_id: \u001B[38;5;28mstr\u001B[39m, connection_id: \u001B[38;5;28mstr\u001B[39m):\n\u001B[1;32m--> 174\u001B[0m     \u001B[38;5;28;01mreturn\u001B[39;00m \u001B[43m_get_insights_timeline\u001B[49m\u001B[43m(\u001B[49m\u001B[43muser_id\u001B[49m\u001B[43m,\u001B[49m\u001B[43m \u001B[49m\u001B[43mconnection_id\u001B[49m\u001B[43m)\u001B[49m\u001B[38;5;241m.\u001B[39mto_json()\n",
      "File \u001B[1;32mG:\\Project099\\Team099\\database\\app.py:196\u001B[0m, in \u001B[0;36m_get_insights_timeline\u001B[1;34m(user_id, connection_id)\u001B[0m\n\u001B[0;32m    194\u001B[0m sector_weights, metric_weights \u001B[38;5;241m=\u001B[39m get_latest_weights(user_id)\n\u001B[0;32m    195\u001B[0m metrics \u001B[38;5;241m=\u001B[39m pd\u001B[38;5;241m.\u001B[39mjson_normalize(connections[[\u001B[38;5;124m'\u001B[39m\u001B[38;5;124mmetrics\u001B[39m\u001B[38;5;124m'\u001B[39m]])\n\u001B[1;32m--> 196\u001B[0m most_recent \u001B[38;5;241m=\u001B[39m \u001B[43mconnections\u001B[49m\u001B[43m[\u001B[49m\u001B[38;5;241;43m-\u001B[39;49m\u001B[38;5;241;43m1\u001B[39;49m\u001B[43m]\u001B[49m\n\u001B[0;32m    198\u001B[0m metrics \u001B[38;5;241m=\u001B[39m metrics\u001B[38;5;241m.\u001B[39mmul(metric_weights)\n\u001B[0;32m    199\u001B[0m sector_weight \u001B[38;5;241m=\u001B[39m sector_weights[most_recent[\u001B[38;5;124m'\u001B[39m\u001B[38;5;124msector\u001B[39m\u001B[38;5;124m'\u001B[39m]]\n",
      "File \u001B[1;32m~\\AppData\\Local\\Packages\\PythonSoftwareFoundation.Python.3.10_qbz5n2kfra8p0\\LocalCache\\local-packages\\Python310\\site-packages\\pandas\\core\\frame.py:3805\u001B[0m, in \u001B[0;36mDataFrame.__getitem__\u001B[1;34m(self, key)\u001B[0m\n\u001B[0;32m   3803\u001B[0m \u001B[38;5;28;01mif\u001B[39;00m \u001B[38;5;28mself\u001B[39m\u001B[38;5;241m.\u001B[39mcolumns\u001B[38;5;241m.\u001B[39mnlevels \u001B[38;5;241m>\u001B[39m \u001B[38;5;241m1\u001B[39m:\n\u001B[0;32m   3804\u001B[0m     \u001B[38;5;28;01mreturn\u001B[39;00m \u001B[38;5;28mself\u001B[39m\u001B[38;5;241m.\u001B[39m_getitem_multilevel(key)\n\u001B[1;32m-> 3805\u001B[0m indexer \u001B[38;5;241m=\u001B[39m \u001B[38;5;28;43mself\u001B[39;49m\u001B[38;5;241;43m.\u001B[39;49m\u001B[43mcolumns\u001B[49m\u001B[38;5;241;43m.\u001B[39;49m\u001B[43mget_loc\u001B[49m\u001B[43m(\u001B[49m\u001B[43mkey\u001B[49m\u001B[43m)\u001B[49m\n\u001B[0;32m   3806\u001B[0m \u001B[38;5;28;01mif\u001B[39;00m is_integer(indexer):\n\u001B[0;32m   3807\u001B[0m     indexer \u001B[38;5;241m=\u001B[39m [indexer]\n",
      "File \u001B[1;32m~\\AppData\\Local\\Packages\\PythonSoftwareFoundation.Python.3.10_qbz5n2kfra8p0\\LocalCache\\local-packages\\Python310\\site-packages\\pandas\\core\\indexes\\base.py:3802\u001B[0m, in \u001B[0;36mIndex.get_loc\u001B[1;34m(self, key, method, tolerance)\u001B[0m\n\u001B[0;32m   3800\u001B[0m     \u001B[38;5;28;01mreturn\u001B[39;00m \u001B[38;5;28mself\u001B[39m\u001B[38;5;241m.\u001B[39m_engine\u001B[38;5;241m.\u001B[39mget_loc(casted_key)\n\u001B[0;32m   3801\u001B[0m \u001B[38;5;28;01mexcept\u001B[39;00m \u001B[38;5;167;01mKeyError\u001B[39;00m \u001B[38;5;28;01mas\u001B[39;00m err:\n\u001B[1;32m-> 3802\u001B[0m     \u001B[38;5;28;01mraise\u001B[39;00m \u001B[38;5;167;01mKeyError\u001B[39;00m(key) \u001B[38;5;28;01mfrom\u001B[39;00m \u001B[38;5;21;01merr\u001B[39;00m\n\u001B[0;32m   3803\u001B[0m \u001B[38;5;28;01mexcept\u001B[39;00m \u001B[38;5;167;01mTypeError\u001B[39;00m:\n\u001B[0;32m   3804\u001B[0m     \u001B[38;5;66;03m# If we have a listlike key, _check_indexing_error will raise\u001B[39;00m\n\u001B[0;32m   3805\u001B[0m     \u001B[38;5;66;03m#  InvalidIndexError. Otherwise we fall through and re-raise\u001B[39;00m\n\u001B[0;32m   3806\u001B[0m     \u001B[38;5;66;03m#  the TypeError.\u001B[39;00m\n\u001B[0;32m   3807\u001B[0m     \u001B[38;5;28mself\u001B[39m\u001B[38;5;241m.\u001B[39m_check_indexing_error(key)\n",
      "\u001B[1;31mKeyError\u001B[0m: -1"
     ]
    }
   ],
   "source": [
    "from database.data_classes import User, Connection\n",
    "from database.app import *\n",
    "import pandas\n",
    "from database.helpful_classes import db\n",
    "get_insights_timeline(\"ac168cda-d555-4a6c-bbb0-a576fb9eee85\", \"Gary Gu\")"
   ],
   "metadata": {
    "collapsed": false
   }
  }
 ],
 "metadata": {
  "kernelspec": {
   "display_name": "Python 3",
   "language": "python",
   "name": "python3"
  },
  "language_info": {
   "codemirror_mode": {
    "name": "ipython",
    "version": 2
   },
   "file_extension": ".py",
   "mimetype": "text/x-python",
   "name": "python",
   "nbconvert_exporter": "python",
   "pygments_lexer": "ipython2",
   "version": "2.7.6"
  }
 },
 "nbformat": 4,
 "nbformat_minor": 0
}
